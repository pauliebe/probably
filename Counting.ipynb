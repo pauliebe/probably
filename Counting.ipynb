{
 "cells": [
  {
   "cell_type": "markdown",
   "metadata": {},
   "source": [
    "Counting bigrams leading up to QUERY and after QUERY"
   ]
  },
  {
   "cell_type": "code",
   "execution_count": 1,
   "metadata": {},
   "outputs": [],
   "source": [
    "import json\n",
    "\n",
    "query = 'probably'\n",
    "\n",
    "#load json file of probablies\n",
    "with open('app/json_files/combined/probably.json') as json_data:\n",
    "\tparsed_json = json.load(json_data)"
   ]
  },
  {
   "cell_type": "code",
   "execution_count": null,
   "metadata": {},
   "outputs": [],
   "source": []
  },
  {
   "cell_type": "code",
   "execution_count": 2,
   "metadata": {},
   "outputs": [],
   "source": [
    "from nltk.tokenize import word_tokenize\n",
    "from nltk.corpus import stopwords\n",
    "import string\n",
    "\n",
    "#define stopwords\n",
    "punctuation = list(string.punctuation)\n",
    "digits = list(string.digits)\n",
    "extra = [query, '\\'s', '\\'\\'', '``', '--', '...', 'n\\'t', '\\'d', '\\'ll', '\\'re', '\\'m']\n",
    "stop = stopwords.words('english') + punctuation + digits + extra"
   ]
  },
  {
   "cell_type": "markdown",
   "metadata": {},
   "source": [
    "Start by looking at the words that comes after \"probably\" in each sentence, taking out NLTK's English stopwords."
   ]
  },
  {
   "cell_type": "code",
   "execution_count": 52,
   "metadata": {},
   "outputs": [
    {
     "ename": "SyntaxError",
     "evalue": "invalid syntax (<ipython-input-52-da053171c01b>, line 16)",
     "output_type": "error",
     "traceback": [
      "\u001b[0;36m  File \u001b[0;32m\"<ipython-input-52-da053171c01b>\"\u001b[0;36m, line \u001b[0;32m16\u001b[0m\n\u001b[0;31m    if next_word not in stop:\u001b[0m\n\u001b[0m     ^\u001b[0m\n\u001b[0;31mSyntaxError\u001b[0m\u001b[0;31m:\u001b[0m invalid syntax\n"
     ]
    }
   ],
   "source": [
    "#def nextwords\n",
    "\n",
    "def find_nextwords(parsed_json, stop):\n",
    "    next_words = []\n",
    "    missing_query_list = []\n",
    "    for item in parsed_json:\n",
    "        title = word_tokenize(item['title'].lower())\n",
    "        try:\n",
    "            query_index = title.index(query)\n",
    "            try:\n",
    "                next_word = title[query_index+1]\n",
    "            except ValueError:\n",
    "                missing_query_list.append(item['title'])\n",
    "                continue\n",
    "                \n",
    "        if next_word not in stop:\n",
    "            next_words.append(next_word)\n",
    "    return next_words, missing_query_list\n",
    "\n",
    "next_words, missing_query_list = find_nextwords(parsed_json,stop)"
   ]
  },
  {
   "cell_type": "code",
   "execution_count": 4,
   "metadata": {},
   "outputs": [
    {
     "name": "stdout",
     "output_type": "stream",
     "text": [
      "543\n",
      "[('taken', 30), ('congressional', 16), ('near', 12), ('used', 12), ('ca', 11), ('march', 10), ('end', 9), ('original', 7), ('orville', 6), ('new', 6), ('salem', 6), ('never', 5), ('part', 5), ('detroit', 5), ('michigan', 5), ('1920', 5), ('early', 4), ('going', 4), ('hungarian', 4), ('c.', 4), ('photographed', 4), ('installed', 4), ('south', 4), ('added', 4), ('around', 4)]\n"
     ]
    }
   ],
   "source": [
    "#count nextwords\n",
    "from collections import Counter\n",
    "\n",
    "def count_common(word_list):\n",
    "    count_all= Counter()\n",
    "    count_all.update(word_list)\n",
    "    print(len(word_list))\n",
    "    print(count_all.most_common(25))\n",
    "\n",
    "count_common(next_words)"
   ]
  },
  {
   "cell_type": "markdown",
   "metadata": {},
   "source": [
    "However, it turns out stopwords like \"in\" and \"at\" are kind of interesting here. So let's look at the same set of titles with a different set of stopwords, this time including prepositions."
   ]
  },
  {
   "cell_type": "code",
   "execution_count": 5,
   "metadata": {},
   "outputs": [],
   "source": [
    "prepositions = ['in', 'at', 'on']\n",
    "new_stopwords = [ w for w in stop if w not in prepositions]\n",
    "no_stopwords = extra + punctuation + digits + extra"
   ]
  },
  {
   "cell_type": "code",
   "execution_count": 6,
   "metadata": {},
   "outputs": [
    {
     "name": "stdout",
     "output_type": "stream",
     "text": [
      "790\n",
      "[('in', 179), ('at', 52), ('taken', 30), ('on', 16), ('congressional', 16), ('near', 12), ('used', 12), ('ca', 11), ('march', 10), ('end', 9), ('original', 7), ('orville', 6), ('new', 6), ('salem', 6), ('never', 5), ('part', 5), ('detroit', 5), ('michigan', 5), ('1920', 5), ('early', 4), ('going', 4), ('hungarian', 4), ('c.', 4), ('photographed', 4), ('installed', 4)]\n",
      "None\n",
      "1106\n",
      "[('in', 179), ('the', 61), ('a', 54), ('at', 52), ('taken', 30), ('from', 28), ('for', 22), ('during', 20), ('be', 17), ('on', 16), ('congressional', 16), ('of', 14), ('not', 14), ('under', 13), ('near', 12), ('used', 12), ('ca', 11), ('march', 10), ('end', 9), ('original', 7), ('orville', 6), ('to', 6), ('new', 6), ('about', 6), ('his', 6)]\n",
      "None\n"
     ]
    }
   ],
   "source": [
    "next_with_prepositions, missing_query_list = find_nextwords(parsed_json, new_stopwords)\n",
    "next_no_stop, missing_query_list = find_nextwords(parsed_json, no_stopwords)\n",
    "\n",
    "print(count_common(next_with_prepositions))\n",
    "print(count_common(next_no_stop))"
   ]
  },
  {
   "cell_type": "markdown",
   "metadata": {},
   "source": [
    "Next let's look at what else happens after the query, by creating bigrams (or trigrams?) from each title after the word probably"
   ]
  },
  {
   "cell_type": "code",
   "execution_count": 61,
   "metadata": {},
   "outputs": [
    {
     "name": "stdout",
     "output_type": "stream",
     "text": [
      "[['minnesota', '--', 'probably'], ['sen.', 'ford', '/', 'rep.', 'charlie', 'probably']]\n"
     ]
    }
   ],
   "source": [
    "def find_phrases(parsed_json):\n",
    "    next_phrases = []\n",
    "    missing_query_list = []\n",
    "    last_phrases = []\n",
    "    \n",
    "    for item in parsed_json:\n",
    "        title = word_tokenize(item['title'].lower())\n",
    "        try:\n",
    "            query_index = title.index(query)\n",
    "        except ValueError:\n",
    "            missing_query_list.append(item['title'])\n",
    "            continue\n",
    "            \n",
    "        if query_index == len(title)-1:\n",
    "            last_phrase = title[:query_index]\n",
    "            last_phrases.append(title)\n",
    "        else:\n",
    "            next_phrase = title[query_index:]\n",
    "            next_phrases.append(next_phrase)\n",
    "    \n",
    "    return next_phrases, missing_query_list, last_phrases\n",
    "\n",
    "next_phrases, missing_query_list, last_phrases = find_phrases(parsed_json)"
   ]
  },
  {
   "cell_type": "markdown",
   "metadata": {},
   "source": [
    "Let's look at what's before the probably. It's really only interesting if it's the last word or in parathenses."
   ]
  },
  {
   "cell_type": "code",
   "execution_count": 47,
   "metadata": {},
   "outputs": [
    {
     "name": "stdout",
     "output_type": "stream",
     "text": [
      "[['minnesota', '--', 'probably'], ['sen.', 'ford', '/', 'rep.', 'charlie', 'probably']]\n"
     ]
    }
   ],
   "source": [
    "last_phrases = []\n",
    "for item in parsed_json:\n",
    "        title = word_tokenize(item['title'].lower())\n",
    "        try:\n",
    "            query_index = title.index(query)\n",
    "            if query_index >= len(title)-1:\n",
    "                last_phrase = title[:query_index+1]\n",
    "                last_phrases.append(title)\n",
    "        except ValueError:\n",
    "            continue\n",
    "\n",
    "print (last_phrases)"
   ]
  },
  {
   "cell_type": "markdown",
   "metadata": {},
   "source": [
    "So then we can sort based on the first word of each phrase"
   ]
  },
  {
   "cell_type": "code",
   "execution_count": null,
   "metadata": {},
   "outputs": [],
   "source": [
    "    "
   ]
  }
 ],
 "metadata": {
  "kernelspec": {
   "display_name": "Python 3",
   "language": "python",
   "name": "python3"
  },
  "language_info": {
   "codemirror_mode": {
    "name": "ipython",
    "version": 3
   },
   "file_extension": ".py",
   "mimetype": "text/x-python",
   "name": "python",
   "nbconvert_exporter": "python",
   "pygments_lexer": "ipython3",
   "version": "3.6.4"
  }
 },
 "nbformat": 4,
 "nbformat_minor": 2
}
